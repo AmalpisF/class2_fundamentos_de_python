{
 "cells": [
  {
   "cell_type": "code",
   "execution_count": 3,
   "metadata": {},
   "outputs": [
    {
     "name": "stdout",
     "output_type": "stream",
     "text": [
      "soy mappy\n"
     ]
    }
   ],
   "source": [
    "print(\"soy mappy\")"
   ]
  },
  {
   "attachments": {},
   "cell_type": "markdown",
   "metadata": {},
   "source": [
    "FUNDAMENTOS DE PYTHON\n",
    "ABA\n",
    "* TRABAJARÉ CON VARIABLES\n",
    "* OPERADORES MATEMÁTICA\n",
    "* OPERADORES DE COMPARACIÓN\n",
    "* OPERADORES LÓGICOS\n",
    "* OPERADORES CONDICIONALES\n",
    "\n",
    "CONTENIDO DE LA PRIMERA CLASE\n"
   ]
  },
  {
   "cell_type": "code",
   "execution_count": 4,
   "metadata": {},
   "outputs": [],
   "source": [
    "### vARIABLES\n"
   ]
  },
  {
   "cell_type": "code",
   "execution_count": 5,
   "metadata": {},
   "outputs": [],
   "source": [
    "name = \"josefino\" # cadena de caracteres / string"
   ]
  },
  {
   "cell_type": "code",
   "execution_count": 6,
   "metadata": {},
   "outputs": [
    {
     "data": {
      "text/plain": [
       "'josefino'"
      ]
     },
     "execution_count": 6,
     "metadata": {},
     "output_type": "execute_result"
    }
   ],
   "source": [
    "name"
   ]
  },
  {
   "cell_type": "code",
   "execution_count": 7,
   "metadata": {},
   "outputs": [],
   "source": [
    "last_name = \"fuenmayor\""
   ]
  },
  {
   "cell_type": "code",
   "execution_count": 8,
   "metadata": {},
   "outputs": [
    {
     "data": {
      "text/plain": [
       "'fuenmayor'"
      ]
     },
     "execution_count": 8,
     "metadata": {},
     "output_type": "execute_result"
    }
   ],
   "source": [
    "last_name"
   ]
  },
  {
   "cell_type": "code",
   "execution_count": 14,
   "metadata": {},
   "outputs": [],
   "source": [
    "# vars asing\n",
    "number_1 = 22\n",
    "number_2 = 10\n",
    "# principal operation\n",
    "sum = number_1 + number_2\n",
    "rest = number_1 - number_2\n",
    "mult = number_1 * number_2\n",
    "div = number_1 / number_2"
   ]
  },
  {
   "cell_type": "code",
   "execution_count": 15,
   "metadata": {},
   "outputs": [
    {
     "data": {
      "text/plain": [
       "2.2"
      ]
     },
     "execution_count": 15,
     "metadata": {},
     "output_type": "execute_result"
    }
   ],
   "source": [
    "# result of principal operation\n",
    "sum\n",
    "rest\n",
    "mult\n",
    "div\n",
    "# results"
   ]
  },
  {
   "cell_type": "code",
   "execution_count": 16,
   "metadata": {},
   "outputs": [
    {
     "data": {
      "text/plain": [
       "32"
      ]
     },
     "execution_count": 16,
     "metadata": {},
     "output_type": "execute_result"
    }
   ],
   "source": [
    "sum"
   ]
  },
  {
   "cell_type": "code",
   "execution_count": 17,
   "metadata": {},
   "outputs": [
    {
     "data": {
      "text/plain": [
       "12"
      ]
     },
     "execution_count": 17,
     "metadata": {},
     "output_type": "execute_result"
    }
   ],
   "source": [
    "rest"
   ]
  },
  {
   "cell_type": "code",
   "execution_count": 18,
   "metadata": {},
   "outputs": [
    {
     "data": {
      "text/plain": [
       "220"
      ]
     },
     "execution_count": 18,
     "metadata": {},
     "output_type": "execute_result"
    }
   ],
   "source": [
    "mult"
   ]
  },
  {
   "cell_type": "code",
   "execution_count": 19,
   "metadata": {},
   "outputs": [
    {
     "data": {
      "text/plain": [
       "2.2"
      ]
     },
     "execution_count": 19,
     "metadata": {},
     "output_type": "execute_result"
    }
   ],
   "source": [
    "div"
   ]
  },
  {
   "cell_type": "code",
   "execution_count": 22,
   "metadata": {},
   "outputs": [
    {
     "name": "stdout",
     "output_type": "stream",
     "text": [
      "suma 32\n",
      "resta 12\n",
      "multiplicación 220\n",
      "división 2.2\n"
     ]
    }
   ],
   "source": [
    "print(\"suma\", sum)\n",
    "print(f\"resta {rest}\")\n",
    "print(\"multiplicación\", mult)\n",
    "print(f\"división {div}\")\n",
    "\n"
   ]
  },
  {
   "attachments": {},
   "cell_type": "markdown",
   "metadata": {},
   "source": [
    "TIPOS DE DATOS BASICOS\n",
    "* tipo string es tipo cadena de caracter\n",
    "* tipo int es tipo entero\n",
    "* tipo float es tipo decimal\n",
    "\n"
   ]
  },
  {
   "cell_type": "code",
   "execution_count": 23,
   "metadata": {},
   "outputs": [
    {
     "data": {
      "text/plain": [
       "float"
      ]
     },
     "execution_count": 23,
     "metadata": {},
     "output_type": "execute_result"
    }
   ],
   "source": [
    "type(name)\n",
    "type(sum)\n",
    "type(div)"
   ]
  },
  {
   "cell_type": "code",
   "execution_count": null,
   "metadata": {},
   "outputs": [],
   "source": [
    "print(type(sum))\n"
   ]
  },
  {
   "attachments": {},
   "cell_type": "markdown",
   "metadata": {},
   "source": [
    "# ingreso de datos por teclado"
   ]
  },
  {
   "cell_type": "code",
   "execution_count": 28,
   "metadata": {},
   "outputs": [],
   "source": [
    "# vars asing\n",
    "number_1 = input(\"ingrese el digito numero 1\")\n",
    "number_1 =  int(number_1)\n",
    "number_2 = input(\"ingrese el digito numero 2\")\n",
    "number_2 =  int(number_2)\n",
    "# principal operation\n",
    "sum = number_1 + number_2\n",
    "rest = number_1 - number_2\n",
    "mult = number_1 * number_2\n",
    "div = number_1 / number_2"
   ]
  },
  {
   "cell_type": "code",
   "execution_count": 27,
   "metadata": {},
   "outputs": [
    {
     "name": "stdout",
     "output_type": "stream",
     "text": [
      "hola 1\n"
     ]
    },
    {
     "data": {
      "text/plain": [
       "str"
      ]
     },
     "execution_count": 27,
     "metadata": {},
     "output_type": "execute_result"
    }
   ],
   "source": [
    "name_1 = input(\"coloque su nombre\")\n",
    "print(\"hola\", name_1)\n",
    "type(name_1)"
   ]
  },
  {
   "cell_type": "code",
   "execution_count": 29,
   "metadata": {},
   "outputs": [
    {
     "name": "stdout",
     "output_type": "stream",
     "text": [
      "suma 50\n",
      "resta 10\n",
      "multiplicación 600\n",
      "división 1.5\n"
     ]
    }
   ],
   "source": [
    "print(\"suma\", sum)\n",
    "print(f\"resta {rest}\")\n",
    "print(\"multiplicación\", mult)\n",
    "print(f\"división {div}\")"
   ]
  },
  {
   "cell_type": "code",
   "execution_count": 34,
   "metadata": {},
   "outputs": [],
   "source": [
    "# vars asing\n",
    "number_1 = input(\"ingrese el digito numero 1\")\n",
    "number_1 =  float(number_1)\n",
    "number_2 = input(\"ingrese el digito numero 2\")\n",
    "number_2 =  float(number_2)\n",
    "# principal operation\n",
    "sum = number_1 + number_2\n",
    "rest = number_1 - number_2\n",
    "mult = number_1 * number_2\n",
    "div = number_1 / number_2"
   ]
  },
  {
   "cell_type": "code",
   "execution_count": 35,
   "metadata": {},
   "outputs": [
    {
     "name": "stdout",
     "output_type": "stream",
     "text": [
      "suma 80.9\n",
      "resta -0.30000000000000426\n",
      "multiplicación 1636.1799999999998\n",
      "división 0.9926108374384235\n"
     ]
    }
   ],
   "source": [
    "print(\"suma\", sum)\n",
    "print(f\"resta {rest}\")\n",
    "print(\"multiplicación\", mult)\n",
    "print(f\"división {div}\")"
   ]
  },
  {
   "attachments": {},
   "cell_type": "markdown",
   "metadata": {},
   "source": [
    "# nueva rama y celda de codigo para estiudiar las listas"
   ]
  },
  {
   "cell_type": "code",
   "execution_count": 49,
   "metadata": {},
   "outputs": [],
   "source": [
    "# listas\n",
    "# strings\n",
    "# int\n",
    "# floats\n",
    "\n",
    "list_1 = [\"jose\", \"maria\", \"jesus\", 30, 20, 1.2, 2.3]\n"
   ]
  },
  {
   "cell_type": "code",
   "execution_count": 45,
   "metadata": {},
   "outputs": [
    {
     "name": "stdout",
     "output_type": "stream",
     "text": [
      "['jose', 'maria', 'jesus', 30, 20, 12]\n"
     ]
    }
   ],
   "source": [
    "print(list_1)"
   ]
  },
  {
   "cell_type": "code",
   "execution_count": 50,
   "metadata": {},
   "outputs": [
    {
     "name": "stdout",
     "output_type": "stream",
     "text": [
      "jesus\n"
     ]
    }
   ],
   "source": [
    "print(list_1[2])"
   ]
  },
  {
   "cell_type": "code",
   "execution_count": 51,
   "metadata": {},
   "outputs": [
    {
     "name": "stdout",
     "output_type": "stream",
     "text": [
      "2.3\n"
     ]
    }
   ],
   "source": [
    "print(list_1[-1])"
   ]
  },
  {
   "cell_type": "code",
   "execution_count": 48,
   "metadata": {},
   "outputs": [
    {
     "name": "stdout",
     "output_type": "stream",
     "text": [
      "['jose', 'maria', 'jesus']\n"
     ]
    }
   ],
   "source": [
    "print(list_1[0:3])"
   ]
  },
  {
   "cell_type": "code",
   "execution_count": 52,
   "metadata": {},
   "outputs": [],
   "source": [
    "name_list = list_1[0:3] \n",
    "integers_list = list_1 [3:5]\n",
    "float_list = list_1 [5:]"
   ]
  },
  {
   "cell_type": "code",
   "execution_count": null,
   "metadata": {},
   "outputs": [],
   "source": [
    "print"
   ]
  },
  {
   "attachments": {},
   "cell_type": "markdown",
   "metadata": {},
   "source": [
    "# metodos que se les aplica a las listas"
   ]
  },
  {
   "cell_type": "code",
   "execution_count": 53,
   "metadata": {},
   "outputs": [
    {
     "data": {
      "text/plain": [
       "[1.2, 2.3]"
      ]
     },
     "execution_count": 53,
     "metadata": {},
     "output_type": "execute_result"
    }
   ],
   "source": [
    "float_list"
   ]
  },
  {
   "cell_type": "code",
   "execution_count": 55,
   "metadata": {},
   "outputs": [
    {
     "data": {
      "text/plain": [
       "[1.2, 2.3, 55.5, 55.5]"
      ]
     },
     "execution_count": 55,
     "metadata": {},
     "output_type": "execute_result"
    }
   ],
   "source": [
    "float_list.append(55.5)\n",
    "float_list"
   ]
  },
  {
   "cell_type": "code",
   "execution_count": 56,
   "metadata": {},
   "outputs": [],
   "source": [
    "integers_list.clear()\n"
   ]
  },
  {
   "cell_type": "code",
   "execution_count": 57,
   "metadata": {},
   "outputs": [
    {
     "data": {
      "text/plain": [
       "[]"
      ]
     },
     "execution_count": 57,
     "metadata": {},
     "output_type": "execute_result"
    }
   ],
   "source": [
    "integers_list"
   ]
  },
  {
   "cell_type": "code",
   "execution_count": 60,
   "metadata": {},
   "outputs": [],
   "source": [
    "name_list_2 = name_list.copy()"
   ]
  },
  {
   "cell_type": "code",
   "execution_count": 61,
   "metadata": {},
   "outputs": [
    {
     "data": {
      "text/plain": [
       "['jose', 'maria', 'jesus']"
      ]
     },
     "execution_count": 61,
     "metadata": {},
     "output_type": "execute_result"
    }
   ],
   "source": [
    "name_list_2"
   ]
  },
  {
   "cell_type": "code",
   "execution_count": 63,
   "metadata": {},
   "outputs": [],
   "source": [
    "name_list_2.append(\"mappy\")"
   ]
  },
  {
   "cell_type": "code",
   "execution_count": 64,
   "metadata": {},
   "outputs": [
    {
     "data": {
      "text/plain": [
       "['jose', 'maria', 'jesus', 'mappy']"
      ]
     },
     "execution_count": 64,
     "metadata": {},
     "output_type": "execute_result"
    }
   ],
   "source": [
    "name_list_2"
   ]
  },
  {
   "cell_type": "code",
   "execution_count": 65,
   "metadata": {},
   "outputs": [
    {
     "data": {
      "text/plain": [
       "4"
      ]
     },
     "execution_count": 65,
     "metadata": {},
     "output_type": "execute_result"
    }
   ],
   "source": [
    "# contar cuantos elementos en la la lista\n",
    "len(name_list_2)"
   ]
  },
  {
   "attachments": {},
   "cell_type": "markdown",
   "metadata": {},
   "source": [
    "### Condicionales"
   ]
  },
  {
   "cell_type": "code",
   "execution_count": null,
   "metadata": {},
   "outputs": [],
   "source": [
    "# sintaxis de un condicional simple\n",
    "# condición if\n",
    "# if condición:\n",
    "     #operación\n",
    "# condición \n",
    "# mayor que > , menor que < , mayor e igual >=,\n",
    "# menor e igual <= , diferente a !=, igual a =="
   ]
  },
  {
   "cell_type": "code",
   "execution_count": 71,
   "metadata": {},
   "outputs": [],
   "source": [
    "day = input(\"dia de la semana\")\n",
    "if (day == \"lunes\"):\n",
    "   print(\"hoy es lunes y voy a trabajar\")"
   ]
  },
  {
   "cell_type": "code",
   "execution_count": 72,
   "metadata": {},
   "outputs": [
    {
     "data": {
      "text/plain": [
       "''"
      ]
     },
     "execution_count": 72,
     "metadata": {},
     "output_type": "execute_result"
    }
   ],
   "source": [
    "day"
   ]
  },
  {
   "cell_type": "code",
   "execution_count": 73,
   "metadata": {},
   "outputs": [
    {
     "name": "stdout",
     "output_type": "stream",
     "text": [
      "hoy no es lunes y no iré a trabajar\n"
     ]
    }
   ],
   "source": [
    "day = input(\"dia de la semana\")\n",
    "if (day == \"lunes\"):\n",
    "   print(\"hoy es lunes y voy a trabajar\")\n",
    "else:\n",
    "   print(\"hoy no es lunes y no iré a trabajar\")"
   ]
  },
  {
   "attachments": {},
   "cell_type": "markdown",
   "metadata": {},
   "source": [
    "Operadores lógicos"
   ]
  },
  {
   "cell_type": "code",
   "execution_count": null,
   "metadata": {},
   "outputs": [],
   "source": []
  },
  {
   "cell_type": "code",
   "execution_count": 76,
   "metadata": {},
   "outputs": [
    {
     "name": "stdout",
     "output_type": "stream",
     "text": [
      "hoy es lunes y voy a trabajar y cine 2x1\n"
     ]
    }
   ],
   "source": [
    "day = input(\"dia de la semana\")\n",
    "momento_day = input(\"ingrese momento del dia mañ,tar,noc\")\n",
    "if (day == \"lunes\") and (momento_day == \"noc\"):\n",
    "   print(\"hoy es lunes y voy a trabajar y cine 2x1\")\n",
    "else:\n",
    "   print(\"hoy no es lunes, no iré a trabajar y no hay cine 2x1\")"
   ]
  },
  {
   "cell_type": "code",
   "execution_count": null,
   "metadata": {},
   "outputs": [],
   "source": []
  },
  {
   "cell_type": "code",
   "execution_count": null,
   "metadata": {},
   "outputs": [],
   "source": []
  }
 ],
 "metadata": {
  "kernelspec": {
   "display_name": "Python 3",
   "language": "python",
   "name": "python3"
  },
  "language_info": {
   "codemirror_mode": {
    "name": "ipython",
    "version": 3
   },
   "file_extension": ".py",
   "mimetype": "text/x-python",
   "name": "python",
   "nbconvert_exporter": "python",
   "pygments_lexer": "ipython3",
   "version": "3.12.4"
  },
  "orig_nbformat": 4
 },
 "nbformat": 4,
 "nbformat_minor": 2
}
