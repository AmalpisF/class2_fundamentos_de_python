{
 "cells": [
  {
   "cell_type": "code",
   "execution_count": 3,
   "metadata": {},
   "outputs": [
    {
     "name": "stdout",
     "output_type": "stream",
     "text": [
      "soy mappy\n"
     ]
    }
   ],
   "source": [
    "print(\"soy mappy\")"
   ]
  },
  {
   "attachments": {},
   "cell_type": "markdown",
   "metadata": {},
   "source": [
    "FUNDAMENTOS DE PYTHON\n",
    "\n",
    "CONTENIDO DE LA PRIMERA CLASE\n",
    "* TRABAJARÉ CON VARIABLES\n",
    "* OPERADORES MATEMÁTICA\n",
    "* OPERADORES DE COMPARACIÓN\n",
    "* OPERADORES LÓGICOS\n",
    "* OPERADORES CONDICIONALES\n",
    "\n"
   ]
  },
  {
   "attachments": {},
   "cell_type": "markdown",
   "metadata": {},
   "source": [
    "### Variables"
   ]
  },
  {
   "cell_type": "code",
   "execution_count": 2,
   "metadata": {},
   "outputs": [],
   "source": [
    "name = \"josefino\" # cadena de caracteres / string"
   ]
  },
  {
   "cell_type": "code",
   "execution_count": 3,
   "metadata": {},
   "outputs": [
    {
     "data": {
      "text/plain": [
       "'josefino'"
      ]
     },
     "execution_count": 3,
     "metadata": {},
     "output_type": "execute_result"
    }
   ],
   "source": [
    "name"
   ]
  },
  {
   "cell_type": "code",
   "execution_count": 4,
   "metadata": {},
   "outputs": [],
   "source": [
    "last_name = \"fuenmayor\""
   ]
  },
  {
   "cell_type": "code",
   "execution_count": 5,
   "metadata": {},
   "outputs": [
    {
     "data": {
      "text/plain": [
       "'fuenmayor'"
      ]
     },
     "execution_count": 5,
     "metadata": {},
     "output_type": "execute_result"
    }
   ],
   "source": [
    "last_name"
   ]
  },
  {
   "cell_type": "code",
   "execution_count": 6,
   "metadata": {},
   "outputs": [],
   "source": [
    "# vars asing\n",
    "number_1 = 22\n",
    "number_2 = 10\n",
    "# principal operation\n",
    "sum = number_1 + number_2\n",
    "rest = number_1 - number_2\n",
    "mult = number_1 * number_2\n",
    "div = number_1 / number_2"
   ]
  },
  {
   "cell_type": "code",
   "execution_count": 7,
   "metadata": {},
   "outputs": [
    {
     "data": {
      "text/plain": [
       "2.2"
      ]
     },
     "execution_count": 7,
     "metadata": {},
     "output_type": "execute_result"
    }
   ],
   "source": [
    "# result of principal operation\n",
    "sum\n",
    "rest\n",
    "mult\n",
    "div\n",
    "# results"
   ]
  },
  {
   "cell_type": "code",
   "execution_count": 8,
   "metadata": {},
   "outputs": [
    {
     "data": {
      "text/plain": [
       "32"
      ]
     },
     "execution_count": 8,
     "metadata": {},
     "output_type": "execute_result"
    }
   ],
   "source": [
    "sum"
   ]
  },
  {
   "cell_type": "code",
   "execution_count": 9,
   "metadata": {},
   "outputs": [
    {
     "data": {
      "text/plain": [
       "12"
      ]
     },
     "execution_count": 9,
     "metadata": {},
     "output_type": "execute_result"
    }
   ],
   "source": [
    "rest"
   ]
  },
  {
   "cell_type": "code",
   "execution_count": 10,
   "metadata": {},
   "outputs": [
    {
     "data": {
      "text/plain": [
       "220"
      ]
     },
     "execution_count": 10,
     "metadata": {},
     "output_type": "execute_result"
    }
   ],
   "source": [
    "mult"
   ]
  },
  {
   "cell_type": "code",
   "execution_count": 11,
   "metadata": {},
   "outputs": [
    {
     "data": {
      "text/plain": [
       "2.2"
      ]
     },
     "execution_count": 11,
     "metadata": {},
     "output_type": "execute_result"
    }
   ],
   "source": [
    "div"
   ]
  },
  {
   "cell_type": "code",
   "execution_count": 12,
   "metadata": {},
   "outputs": [
    {
     "name": "stdout",
     "output_type": "stream",
     "text": [
      "suma 32\n",
      "resta 12\n",
      "multiplicación 220\n",
      "división 2.2\n"
     ]
    }
   ],
   "source": [
    "print(\"suma\", sum)\n",
    "print(f\"resta {rest}\")\n",
    "print(\"multiplicación\", mult)\n",
    "print(f\"división {div}\")\n",
    "\n"
   ]
  },
  {
   "attachments": {},
   "cell_type": "markdown",
   "metadata": {},
   "source": [
    "TIPOS DE DATOS BASICOS\n",
    "* tipo string es tipo cadena de caracter\n",
    "* tipo int es tipo entero\n",
    "* tipo float es tipo decimal\n",
    "\n"
   ]
  },
  {
   "cell_type": "code",
   "execution_count": 14,
   "metadata": {},
   "outputs": [
    {
     "data": {
      "text/plain": [
       "float"
      ]
     },
     "execution_count": 14,
     "metadata": {},
     "output_type": "execute_result"
    }
   ],
   "source": [
    "type(name)\n",
    "type(sum)\n",
    "type(div)"
   ]
  },
  {
   "cell_type": "code",
   "execution_count": 15,
   "metadata": {},
   "outputs": [
    {
     "name": "stdout",
     "output_type": "stream",
     "text": [
      "<class 'int'>\n"
     ]
    }
   ],
   "source": [
    "print(type(sum))\n"
   ]
  },
  {
   "attachments": {},
   "cell_type": "markdown",
   "metadata": {},
   "source": [
    "# Ingreso de datos por teclado"
   ]
  },
  {
   "cell_type": "code",
   "execution_count": 3,
   "metadata": {},
   "outputs": [],
   "source": [
    "# vars asing\n",
    "number_1 = input(\"ingrese el digito numero 1\")\n",
    "number_1 =  int(number_1)\n",
    "number_2 = input(\"ingrese el digito numero 2\")\n",
    "number_2 =  int(number_2)\n",
    "# principal operation\n",
    "sum = number_1 + number_2\n",
    "rest = number_1 - number_2\n",
    "mult = number_1 * number_2\n",
    "div = number_1 / number_2"
   ]
  },
  {
   "cell_type": "code",
   "execution_count": 4,
   "metadata": {},
   "outputs": [
    {
     "name": "stdout",
     "output_type": "stream",
     "text": [
      "hola mappy\n"
     ]
    },
    {
     "data": {
      "text/plain": [
       "str"
      ]
     },
     "execution_count": 4,
     "metadata": {},
     "output_type": "execute_result"
    }
   ],
   "source": [
    "name_1 = input(\"coloque su nombre\")\n",
    "print(\"hola\", name_1)\n",
    "type(name_1)"
   ]
  },
  {
   "cell_type": "code",
   "execution_count": 5,
   "metadata": {},
   "outputs": [
    {
     "name": "stdout",
     "output_type": "stream",
     "text": [
      "suma 30\n",
      "resta 10\n",
      "multiplicación 200\n",
      "división 2.0\n"
     ]
    }
   ],
   "source": [
    "print(\"suma\", sum)\n",
    "print(f\"resta {rest}\")\n",
    "print(\"multiplicación\", mult)\n",
    "print(f\"división {div}\")"
   ]
  },
  {
   "cell_type": "code",
   "execution_count": 6,
   "metadata": {},
   "outputs": [],
   "source": [
    "# vars asing\n",
    "number_1 = input(\"ingrese el digito numero 1\")\n",
    "number_1 =  float(number_1)\n",
    "number_2 = input(\"ingrese el digito numero 2\")\n",
    "number_2 =  float(number_2)\n",
    "# principal operation\n",
    "sum = number_1 + number_2\n",
    "rest = number_1 - number_2\n",
    "mult = number_1 * number_2\n",
    "div = number_1 / number_2"
   ]
  },
  {
   "cell_type": "code",
   "execution_count": 7,
   "metadata": {},
   "outputs": [
    {
     "name": "stdout",
     "output_type": "stream",
     "text": [
      "suma 40.0\n",
      "resta 20.0\n",
      "multiplicación 300.0\n",
      "división 3.0\n"
     ]
    }
   ],
   "source": [
    "print(\"suma\", sum)\n",
    "print(f\"resta {rest}\")\n",
    "print(\"multiplicación\", mult)\n",
    "print(f\"división {div}\")"
   ]
  },
  {
   "attachments": {},
   "cell_type": "markdown",
   "metadata": {},
   "source": [
    "# Nueva rama y celda de codigo para estudiar las listas"
   ]
  },
  {
   "cell_type": "code",
   "execution_count": 49,
   "metadata": {},
   "outputs": [],
   "source": [
    "# listas\n",
    "# strings\n",
    "# int\n",
    "# floats\n",
    "\n",
    "list_1 = [\"jose\", \"maria\", \"jesus\", 30, 20, 1.2, 2.3]\n"
   ]
  },
  {
   "cell_type": "code",
   "execution_count": 45,
   "metadata": {},
   "outputs": [
    {
     "name": "stdout",
     "output_type": "stream",
     "text": [
      "['jose', 'maria', 'jesus', 30, 20, 12]\n"
     ]
    }
   ],
   "source": [
    "print(list_1)"
   ]
  },
  {
   "cell_type": "code",
   "execution_count": 50,
   "metadata": {},
   "outputs": [
    {
     "name": "stdout",
     "output_type": "stream",
     "text": [
      "jesus\n"
     ]
    }
   ],
   "source": [
    "print(list_1[2])"
   ]
  },
  {
   "cell_type": "code",
   "execution_count": 51,
   "metadata": {},
   "outputs": [
    {
     "name": "stdout",
     "output_type": "stream",
     "text": [
      "2.3\n"
     ]
    }
   ],
   "source": [
    "print(list_1[-1])"
   ]
  },
  {
   "cell_type": "code",
   "execution_count": 48,
   "metadata": {},
   "outputs": [
    {
     "name": "stdout",
     "output_type": "stream",
     "text": [
      "['jose', 'maria', 'jesus']\n"
     ]
    }
   ],
   "source": [
    "print(list_1[0:3])"
   ]
  },
  {
   "cell_type": "code",
   "execution_count": 52,
   "metadata": {},
   "outputs": [],
   "source": [
    "name_list = list_1[0:3] \n",
    "integers_list = list_1 [3:5]\n",
    "float_list = list_1 [5:]"
   ]
  },
  {
   "cell_type": "code",
   "execution_count": null,
   "metadata": {},
   "outputs": [],
   "source": [
    "print"
   ]
  },
  {
   "attachments": {},
   "cell_type": "markdown",
   "metadata": {},
   "source": [
    "# metodos que se les aplica a las listas"
   ]
  },
  {
   "cell_type": "code",
   "execution_count": 53,
   "metadata": {},
   "outputs": [
    {
     "data": {
      "text/plain": [
       "[1.2, 2.3]"
      ]
     },
     "execution_count": 53,
     "metadata": {},
     "output_type": "execute_result"
    }
   ],
   "source": [
    "float_list"
   ]
  },
  {
   "cell_type": "code",
   "execution_count": 55,
   "metadata": {},
   "outputs": [
    {
     "data": {
      "text/plain": [
       "[1.2, 2.3, 55.5, 55.5]"
      ]
     },
     "execution_count": 55,
     "metadata": {},
     "output_type": "execute_result"
    }
   ],
   "source": [
    "float_list.append(55.5)\n",
    "float_list"
   ]
  },
  {
   "cell_type": "code",
   "execution_count": 56,
   "metadata": {},
   "outputs": [],
   "source": [
    "integers_list.clear()\n"
   ]
  },
  {
   "cell_type": "code",
   "execution_count": 57,
   "metadata": {},
   "outputs": [
    {
     "data": {
      "text/plain": [
       "[]"
      ]
     },
     "execution_count": 57,
     "metadata": {},
     "output_type": "execute_result"
    }
   ],
   "source": [
    "integers_list"
   ]
  },
  {
   "cell_type": "code",
   "execution_count": 60,
   "metadata": {},
   "outputs": [],
   "source": [
    "name_list_2 = name_list.copy()"
   ]
  },
  {
   "cell_type": "code",
   "execution_count": 61,
   "metadata": {},
   "outputs": [
    {
     "data": {
      "text/plain": [
       "['jose', 'maria', 'jesus']"
      ]
     },
     "execution_count": 61,
     "metadata": {},
     "output_type": "execute_result"
    }
   ],
   "source": [
    "name_list_2"
   ]
  },
  {
   "cell_type": "code",
   "execution_count": 63,
   "metadata": {},
   "outputs": [],
   "source": [
    "name_list_2.append(\"mappy\")"
   ]
  },
  {
   "cell_type": "code",
   "execution_count": 64,
   "metadata": {},
   "outputs": [
    {
     "data": {
      "text/plain": [
       "['jose', 'maria', 'jesus', 'mappy']"
      ]
     },
     "execution_count": 64,
     "metadata": {},
     "output_type": "execute_result"
    }
   ],
   "source": [
    "name_list_2"
   ]
  },
  {
   "cell_type": "code",
   "execution_count": 65,
   "metadata": {},
   "outputs": [
    {
     "data": {
      "text/plain": [
       "4"
      ]
     },
     "execution_count": 65,
     "metadata": {},
     "output_type": "execute_result"
    }
   ],
   "source": [
    "# contar cuantos elementos en la la lista\n",
    "len(name_list_2)"
   ]
  },
  {
   "attachments": {},
   "cell_type": "markdown",
   "metadata": {},
   "source": [
    "### Condicionales"
   ]
  },
  {
   "cell_type": "code",
   "execution_count": null,
   "metadata": {},
   "outputs": [],
   "source": [
    "# sintaxis de un condicional simple\n",
    "# condición if\n",
    "# if condición:\n",
    "     #operación\n",
    "# condición \n",
    "# mayor que > , menor que < , mayor e igual >=,\n",
    "# menor e igual <= , diferente a !=, igual a =="
   ]
  },
  {
   "cell_type": "code",
   "execution_count": 71,
   "metadata": {},
   "outputs": [],
   "source": [
    "day = input(\"dia de la semana\")\n",
    "if (day == \"lunes\"):\n",
    "   print(\"hoy es lunes y voy a trabajar\")"
   ]
  },
  {
   "cell_type": "code",
   "execution_count": 72,
   "metadata": {},
   "outputs": [
    {
     "data": {
      "text/plain": [
       "''"
      ]
     },
     "execution_count": 72,
     "metadata": {},
     "output_type": "execute_result"
    }
   ],
   "source": [
    "day"
   ]
  },
  {
   "cell_type": "code",
   "execution_count": 73,
   "metadata": {},
   "outputs": [
    {
     "name": "stdout",
     "output_type": "stream",
     "text": [
      "hoy no es lunes y no iré a trabajar\n"
     ]
    }
   ],
   "source": [
    "day = input(\"dia de la semana\")\n",
    "if (day == \"lunes\"):\n",
    "   print(\"hoy es lunes y voy a trabajar\")\n",
    "else:\n",
    "   print(\"hoy no es lunes y no iré a trabajar\")"
   ]
  },
  {
   "attachments": {},
   "cell_type": "markdown",
   "metadata": {},
   "source": [
    "Operadores lógicos"
   ]
  },
  {
   "cell_type": "code",
   "execution_count": null,
   "metadata": {},
   "outputs": [],
   "source": []
  },
  {
   "cell_type": "code",
   "execution_count": 76,
   "metadata": {},
   "outputs": [
    {
     "name": "stdout",
     "output_type": "stream",
     "text": [
      "hoy es lunes y voy a trabajar y cine 2x1\n"
     ]
    }
   ],
   "source": [
    "day = input(\"dia de la semana\")\n",
    "momento_day = input(\"ingrese momento del dia mañ,tar,noc\")\n",
    "if (day == \"lunes\") and (momento_day == \"noc\"):\n",
    "   print(\"hoy es lunes y voy a trabajar y cine 2x1\")\n",
    "else:\n",
    "   print(\"hoy no es lunes, no iré a trabajar y no hay cine 2x1\")"
   ]
  },
  {
   "attachments": {},
   "cell_type": "markdown",
   "metadata": {},
   "source": [
    "Tarea 1: Piedra Papel o Tijera : buscada y modificada"
   ]
  },
  {
   "cell_type": "code",
   "execution_count": 4,
   "metadata": {},
   "outputs": [
    {
     "name": "stdout",
     "output_type": "stream",
     "text": [
      "Hi!, that was the play stone, paper or sissors\n",
      "The computer chose: sissors\n",
      "You chose: stone\n",
      "you win! the stone hit the sissors.\n",
      "¡bye!\n"
     ]
    }
   ],
   "source": [
    "import random\n",
    "print(\"Hi!, that was the play stone, paper or sissors\")\n",
    "opciones = [\"stone\", \"paper\", \"sissors\"]\n",
    "\n",
    "while True:\n",
    "    # la computadora elige una opción\n",
    "    computadora = random.choice(opciones)\n",
    "    \n",
    "    # el usuario elige una opción\n",
    "    usuario = input(\"write stone, paper or sissors: \").lower()\n",
    "    print(f\"The computer chose: {computadora}\")\n",
    "    print(f\"You chose: {usuario}\")\n",
    "\n",
    "    # Comprueba si la opción del usuario es válida\n",
    "    if usuario not in opciones:\n",
    "        print(\"invalid option, write again.\")\n",
    "        continue\n",
    "    \n",
    "    # Comprueba quién ganó\n",
    "    if usuario == \"stone\" and computadora == \"sissors\":\n",
    "        print(\"you win! the stone hit the sissors.\")\n",
    "    elif usuario == \"sissors\" and computadora == \"paper\":\n",
    "        print(\"you win! the sissors cut the paper.\")\n",
    "    elif usuario == \"paper\" and computadora == \"stone\":\n",
    "        print(\"you win! teh paper cover the stone.\")\n",
    "    elif usuario == computadora:\n",
    "        print(\"both tied!!!!\")\n",
    "    else:\n",
    "        print(\"you loose! the computer chose\", computadora)\n",
    "  \n",
    "    # Preguntar si el usuario quiere jugar de nuevo\n",
    "    jugar_de_nuevo = input(\"¿Quieres jugar de nuevo? (s/n): \").lower()\n",
    "    if jugar_de_nuevo != \"s\":\n",
    "        break\n",
    "\n",
    "print(\"¡bye!\")\n"
   ]
  },
  {
   "cell_type": "markdown",
   "metadata": {},
   "source": []
  },
  {
   "cell_type": "code",
   "execution_count": null,
   "metadata": {},
   "outputs": [],
   "source": []
  }
 ],
 "metadata": {
  "kernelspec": {
   "display_name": "Python 3",
   "language": "python",
   "name": "python3"
  },
  "language_info": {
   "codemirror_mode": {
    "name": "ipython",
    "version": 3
   },
   "file_extension": ".py",
   "mimetype": "text/x-python",
   "name": "python",
   "nbconvert_exporter": "python",
   "pygments_lexer": "ipython3",
   "version": "3.12.4"
  },
  "orig_nbformat": 4
 },
 "nbformat": 4,
 "nbformat_minor": 2
}
